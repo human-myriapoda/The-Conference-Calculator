{
 "cells": [
  {
   "attachments": {},
   "cell_type": "markdown",
   "metadata": {},
   "source": [
    "# General information\n",
    "This code is the central structure of `The Conference Calculator`. \n",
    "\n",
    "The sections of the basic version of the tool are:\n",
    "\n",
    "1. Basic inputs (starting point, location of the conference).\n",
    "2. Query conference database.\n",
    "3. Route calculation for different modes of transportation (car, train, plane).\n",
    "4. Carbon footprint calculation for different modes of transportation (car, train, plane).\n",
    "5. Importance of the conference.\n",
    "6. Outputs (2D plot)."
   ]
  },
  {
   "attachments": {},
   "cell_type": "markdown",
   "metadata": {},
   "source": [
    "## 0. Importations"
   ]
  },
  {
   "cell_type": "code",
   "execution_count": 65,
   "metadata": {},
   "outputs": [],
   "source": [
    "import inquirer as iq\n",
    "import numpy as np\n",
    "import matplotlib.pyplot as plt\n",
    "import pandas as pd\n",
    "import urllib.request\n",
    "import os\n",
    "import geopy.distance\n",
    "from matplotlib.offsetbox import OffsetImage, AnnotationBbox\n",
    "import osmnx as ox\n",
    "from J0ANMM import carbon_car, carbon_flight, carbon_train\n",
    "import wbgapi as wb\n",
    "%matplotlib qt"
   ]
  },
  {
   "attachments": {},
   "cell_type": "markdown",
   "metadata": {},
   "source": [
    "## 1. Basic inputs\n",
    "Questions asked (for now!):\n",
    "1. What's your starting point?\n",
    "2. Where is the conference?"
   ]
  },
  {
   "cell_type": "code",
   "execution_count": 97,
   "metadata": {},
   "outputs": [
    {
     "name": "stdout",
     "output_type": "stream",
     "text": [
      "LIST OF AVAILABLE CITIES\n",
      "--------------------------------------\n",
      "London\n",
      "Paris\n",
      "Brussels\n",
      "Amsterdam\n",
      "Luxembourg\n",
      "Bern\n",
      "Berlin\n",
      "Copenhagen\n",
      "Prague\n",
      "Ljubljana\n",
      "Vienna\n",
      "Oslo\n",
      "Bratislava\n",
      "Madrid\n",
      "Zagreb\n",
      "Rome\n",
      "Budapest\n",
      "Warsaw\n",
      "Stockholm\n",
      "Sarajevo\n",
      "Lisbon\n",
      "--------------------------------------\n"
     ]
    },
    {
     "data": {
      "text/plain": [
       "{'starting_point': 'London', 'destination_point': 'Vienna'}"
      ]
     },
     "execution_count": 97,
     "metadata": {},
     "output_type": "execute_result"
    }
   ],
   "source": [
    "list_of_cities = {\n",
    "    'London':'St Pancras International',\n",
    "    'Paris': 'Gare du Nord',\n",
    "    'Brussels': 'Brussel-Centraal',\n",
    "    'Amsterdam': 'Amsterdam Centraal',\n",
    "    'Luxembourg': 'Luxembourg Railway Station',\n",
    "    'Bern': 'Bern Railway Station',\n",
    "    'Berlin':'Berlin Hauptbahnhof',\n",
    "    'Copenhagen':'Copenhagen Central Station',\n",
    "    'Prague': 'Prague Main Railway Station',\n",
    "    'Ljubljana':'Ljubljana Train Station',\n",
    "    'Vienna': 'Vienna International Busterminal (VIB)',\n",
    "    'Oslo':'Oslo Central Station',\n",
    "    'Bratislava': 'Bratislava Hlavna',\n",
    "    'Madrid': 'Madrid Atocha',\n",
    "    'Zagreb':'Zagreb Glavni Kolod Train Station',\n",
    "    'Rome': 'Roma Termini',\n",
    "    'Budapest': 'Budapest Keleti',\n",
    "    'Warsaw': 'Warszawa Centralna railway station',\n",
    "    'Stockholm':'Stockholm Central Station',\n",
    "    'Sarajevo':'Sarajevo Main Railway station',\n",
    "    'Lisbon':'Rossio Railway Station', \n",
    "    }\n",
    "\n",
    "print(\"LIST OF AVAILABLE CITIES\")\n",
    "print(\"--------------------------------------\")\n",
    "for city in list_of_cities.keys(): print(city)\n",
    "print(\"--------------------------------------\")\n",
    "\n",
    "# Departure city (starting point)\n",
    "starting_point = input(\"Please enter your departure city: \")\n",
    "if starting_point not in list_of_cities.keys(): \n",
    "    raise Exception(\"City not available! Enter another city.\")\n",
    "\n",
    "# Destination city (destination point)\n",
    "destination_point = input(\"Please enter your destination city: \")\n",
    "if destination_point not in list_of_cities.keys(): \n",
    "    raise Exception(\"City not available! Enter another city.\")\n",
    "\n",
    "# Create dictionary with both cities\n",
    "journey_info = {'starting_point': starting_point, 'destination_point': destination_point}\n",
    "journey_info"
   ]
  },
  {
   "attachments": {},
   "cell_type": "markdown",
   "metadata": {},
   "source": [
    "## 2. Query conference database\n",
    "TODO: Add Lorenzo code"
   ]
  },
  {
   "attachments": {},
   "cell_type": "markdown",
   "metadata": {},
   "source": [
    "## 3. Route calculation\n",
    "Output: add distance from Google Maps API to `journey_info` for car, train and plane"
   ]
  },
  {
   "cell_type": "code",
   "execution_count": 98,
   "metadata": {},
   "outputs": [],
   "source": [
    "# Read databases for train and car distances\n",
    "car_distances_db = pd.read_csv(os.path.join(os.getcwd(), 'databases', 'Car_db.csv'), index_col=0)\n",
    "train_distances_db = pd.read_csv(os.path.join(os.getcwd(), 'databases', 'Rail_db.csv'), index_col=0)\n",
    "\n",
    "# Use database to retrieve distance between cities\n",
    "journey_info['distance_car'] = car_distances_db[journey_info['starting_point']][journey_info['destination_point']] / 1000.\n",
    "journey_info['distance_train'] = train_distances_db[journey_info['starting_point']][journey_info['destination_point']] / 1000.\n",
    "\n",
    "# Retrieve latitude and longitude of both cities\n",
    "latitude_starting, longitude_starting = ox.geocode_to_gdf(journey_info['starting_point']).lat.values[0], ox.geocode_to_gdf(journey_info['starting_point']).lon.values[0]\n",
    "latitude_destination, longitude_destination = ox.geocode_to_gdf(journey_info['destination_point']).lat.values[0], ox.geocode_to_gdf(journey_info['destination_point']).lon.values[0]\n",
    "\n",
    "# Use geopy to calculate the distance between the two cities (for plane)\n",
    "journey_info['distance_plane'] = geopy.distance.geodesic((latitude_starting, longitude_starting), (latitude_destination, longitude_destination)).km"
   ]
  },
  {
   "attachments": {},
   "cell_type": "markdown",
   "metadata": {},
   "source": [
    "## 4. `gCO2` calculation based on transport mode and distance\n",
    "Output: add carbon footprint from Google Maps API to `journey_info` for car, train and plane"
   ]
  },
  {
   "cell_type": "code",
   "execution_count": 102,
   "metadata": {},
   "outputs": [],
   "source": [
    "# OSMNX information\n",
    "country = ox.geocode_to_gdf(journey_info['destination_point'])['display_name'].values[0].split(', ')[-1]\n",
    "wb_featureset = wb.economy.info(q=country)\n",
    "country_ID = wb_featureset.items[0]['id'][:2]\n",
    "\n",
    "if country_ID == 'GB': country_ID = 'UK'\n",
    "\n",
    "# List of transport options\n",
    "list_of_transport = ['petrol_car', 'electric_car', 'train', 'plane']\n",
    "\n",
    "for mode in list_of_transport:\n",
    "\n",
    "    # For electric and petrol cars\n",
    "    if np.char.endswith(mode, 'car'):\n",
    "        class_car = carbon_car.CarbonCar()\n",
    "        co2_car = class_car.calculate_co2(dist_km=journey_info['distance_{}'.format(mode.split('_')[1])], \\\n",
    "                                       fuel_type=mode.split('_')[0], \\\n",
    "                                       pax_in_car=1, \\\n",
    "                                       trip_type='one-way')\n",
    "        \n",
    "        # Save carbon footprint in dictionary\n",
    "        journey_info['carbon_footprint_{}'.format(mode)] = co2_car\n",
    "\n",
    "    # For train\n",
    "    elif mode == 'train':\n",
    "        class_train = carbon_train.CarbonTrain()\n",
    "        co2_train = class_train.calculate_co2(dist_km=journey_info['distance_{}'.format(mode)], \\\n",
    "                                              train_energy='electric', \\\n",
    "                                              train_country=country_ID, \\\n",
    "                                              trip_type='one-way')\n",
    "        \n",
    "        # Save carbon footprint in dictionary\n",
    "        journey_info['carbon_footprint_{}'.format(mode)] = co2_train\n",
    "    \n",
    "    # For plane\n",
    "    elif mode == 'plane':\n",
    "        class_plane = carbon_flight.CarbonFlight()\n",
    "        co2_plane = class_plane.calculate_co2(dist_km=journey_info['distance_{}'.format(mode)], \\\n",
    "                                              pax_class='economy', \\\n",
    "                                              trip_type='one-way')\n",
    "        \n",
    "        # Save carbon footprint in dictionary\n",
    "        journey_info['carbon_footprint_{}'.format(mode)] = co2_plane\n"
   ]
  },
  {
   "attachments": {},
   "cell_type": "markdown",
   "metadata": {},
   "source": [
    "## 5. Importance of the conference\n",
    "- *Are you presenting?* $\\rightarrow$ talk, poster, invited talk, workshop lecture, etc.\n",
    "- *How often is the conference held?* $\\rightarrow$ e.g., every four years, unique conference, annually.\n",
    "- *How specific is the conference to your research project?* $\\rightarrow$ broad, specific, expert level?\n",
    "- *Is there a relevant workshop/session you want/need to attend?*\n",
    "- *Is the conference offered in hybrid mode?*\n",
    "- *Are you an Early Career Researcher?*"
   ]
  },
  {
   "cell_type": "code",
   "execution_count": 53,
   "metadata": {},
   "outputs": [
    {
     "name": "stdout",
     "output_type": "stream",
     "text": [
      "\n",
      "QUESTION: Are you an Early Career Researcher (e.g., undergraduate student, postgraduate student, postdoctoral researcher, research assistant)?\n",
      "1 - Yes\n",
      "2 - No\n"
     ]
    },
    {
     "ename": "ValueError",
     "evalue": "invalid literal for int() with base 10: ''",
     "output_type": "error",
     "traceback": [
      "\u001b[1;31m---------------------------------------------------------------------------\u001b[0m",
      "\u001b[1;31mValueError\u001b[0m                                Traceback (most recent call last)",
      "\u001b[1;32mc:\\Users\\myriampe\\OneDrive\\Documents\\GitHub\\The-Conference-Calculator\\TheConferenceCalculator.ipynb Cell 12\u001b[0m line \u001b[0;36m7\n\u001b[0;32m     <a href='vscode-notebook-cell:/c%3A/Users/myriampe/OneDrive/Documents/GitHub/The-Conference-Calculator/TheConferenceCalculator.ipynb#X14sZmlsZQ%3D%3D?line=67'>68</a>\u001b[0m         \u001b[39mself\u001b[39m\u001b[39m.\u001b[39mask_expertise()\n\u001b[0;32m     <a href='vscode-notebook-cell:/c%3A/Users/myriampe/OneDrive/Documents/GitHub/The-Conference-Calculator/TheConferenceCalculator.ipynb#X14sZmlsZQ%3D%3D?line=69'>70</a>\u001b[0m         \u001b[39mreturn\u001b[39;00m \u001b[39mself\u001b[39m\u001b[39m.\u001b[39mconference_importance\n\u001b[1;32m---> <a href='vscode-notebook-cell:/c%3A/Users/myriampe/OneDrive/Documents/GitHub/The-Conference-Calculator/TheConferenceCalculator.ipynb#X14sZmlsZQ%3D%3D?line=71'>72</a>\u001b[0m conference_importance \u001b[39m=\u001b[39m conferenceImportance()\u001b[39m.\u001b[39;49mmain()\n",
      "\u001b[1;32mc:\\Users\\myriampe\\OneDrive\\Documents\\GitHub\\The-Conference-Calculator\\TheConferenceCalculator.ipynb Cell 12\u001b[0m line \u001b[0;36m6\n\u001b[0;32m     <a href='vscode-notebook-cell:/c%3A/Users/myriampe/OneDrive/Documents/GitHub/The-Conference-Calculator/TheConferenceCalculator.ipynb#X14sZmlsZQ%3D%3D?line=64'>65</a>\u001b[0m \u001b[39mdef\u001b[39;00m \u001b[39mmain\u001b[39m(\u001b[39mself\u001b[39m):\n\u001b[1;32m---> <a href='vscode-notebook-cell:/c%3A/Users/myriampe/OneDrive/Documents/GitHub/The-Conference-Calculator/TheConferenceCalculator.ipynb#X14sZmlsZQ%3D%3D?line=65'>66</a>\u001b[0m     \u001b[39mself\u001b[39;49m\u001b[39m.\u001b[39;49mask_ECR()\n\u001b[0;32m     <a href='vscode-notebook-cell:/c%3A/Users/myriampe/OneDrive/Documents/GitHub/The-Conference-Calculator/TheConferenceCalculator.ipynb#X14sZmlsZQ%3D%3D?line=66'>67</a>\u001b[0m     \u001b[39mself\u001b[39m\u001b[39m.\u001b[39mask_presenting()    \n\u001b[0;32m     <a href='vscode-notebook-cell:/c%3A/Users/myriampe/OneDrive/Documents/GitHub/The-Conference-Calculator/TheConferenceCalculator.ipynb#X14sZmlsZQ%3D%3D?line=67'>68</a>\u001b[0m     \u001b[39mself\u001b[39m\u001b[39m.\u001b[39mask_expertise()\n",
      "\u001b[1;32mc:\\Users\\myriampe\\OneDrive\\Documents\\GitHub\\The-Conference-Calculator\\TheConferenceCalculator.ipynb Cell 12\u001b[0m line \u001b[0;36m4\n\u001b[0;32m     <a href='vscode-notebook-cell:/c%3A/Users/myriampe/OneDrive/Documents/GitHub/The-Conference-Calculator/TheConferenceCalculator.ipynb#X14sZmlsZQ%3D%3D?line=41'>42</a>\u001b[0m \u001b[39mdef\u001b[39;00m \u001b[39mask_ECR\u001b[39m(\u001b[39mself\u001b[39m):\n\u001b[0;32m     <a href='vscode-notebook-cell:/c%3A/Users/myriampe/OneDrive/Documents/GitHub/The-Conference-Calculator/TheConferenceCalculator.ipynb#X14sZmlsZQ%3D%3D?line=42'>43</a>\u001b[0m     \u001b[39mprint\u001b[39m(\u001b[39m'\u001b[39m\u001b[39m\\n\u001b[39;00m\u001b[39mQUESTION: Are you an Early Career Researcher (e.g., undergraduate student, postgraduate student, postdoctoral researcher, research assistant)?\u001b[39m\u001b[39m'\u001b[39m)\n\u001b[1;32m---> <a href='vscode-notebook-cell:/c%3A/Users/myriampe/OneDrive/Documents/GitHub/The-Conference-Calculator/TheConferenceCalculator.ipynb#X14sZmlsZQ%3D%3D?line=43'>44</a>\u001b[0m     user_info_ECR_score \u001b[39m=\u001b[39m \u001b[39mself\u001b[39;49m\u001b[39m.\u001b[39;49masking_question_from_dict(\u001b[39m'\u001b[39;49m\u001b[39mdict_ECR\u001b[39;49m\u001b[39m'\u001b[39;49m)\n\u001b[0;32m     <a href='vscode-notebook-cell:/c%3A/Users/myriampe/OneDrive/Documents/GitHub/The-Conference-Calculator/TheConferenceCalculator.ipynb#X14sZmlsZQ%3D%3D?line=44'>45</a>\u001b[0m     \u001b[39mself\u001b[39m\u001b[39m.\u001b[39mconference_importance[\u001b[39m'\u001b[39m\u001b[39minformation\u001b[39m\u001b[39m'\u001b[39m][\u001b[39m'\u001b[39m\u001b[39minfo_ECR\u001b[39m\u001b[39m'\u001b[39m] \u001b[39m=\u001b[39m user_info_ECR_score\n",
      "\u001b[1;32mc:\\Users\\myriampe\\OneDrive\\Documents\\GitHub\\The-Conference-Calculator\\TheConferenceCalculator.ipynb Cell 12\u001b[0m line \u001b[0;36m3\n\u001b[0;32m     <a href='vscode-notebook-cell:/c%3A/Users/myriampe/OneDrive/Documents/GitHub/The-Conference-Calculator/TheConferenceCalculator.ipynb#X14sZmlsZQ%3D%3D?line=33'>34</a>\u001b[0m \u001b[39mfor\u001b[39;00m idx, key \u001b[39min\u001b[39;00m \u001b[39menumerate\u001b[39m(\u001b[39mself\u001b[39m\u001b[39m.\u001b[39mconference_importance[\u001b[39m'\u001b[39m\u001b[39mdictionaries\u001b[39m\u001b[39m'\u001b[39m][dict_name]\u001b[39m.\u001b[39mkeys()):\n\u001b[0;32m     <a href='vscode-notebook-cell:/c%3A/Users/myriampe/OneDrive/Documents/GitHub/The-Conference-Calculator/TheConferenceCalculator.ipynb#X14sZmlsZQ%3D%3D?line=34'>35</a>\u001b[0m     \u001b[39mprint\u001b[39m(idx\u001b[39m+\u001b[39m\u001b[39m1\u001b[39m, \u001b[39m'\u001b[39m\u001b[39m-\u001b[39m\u001b[39m'\u001b[39m, key)\n\u001b[1;32m---> <a href='vscode-notebook-cell:/c%3A/Users/myriampe/OneDrive/Documents/GitHub/The-Conference-Calculator/TheConferenceCalculator.ipynb#X14sZmlsZQ%3D%3D?line=36'>37</a>\u001b[0m user_info \u001b[39m=\u001b[39m \u001b[39mint\u001b[39;49m(\u001b[39minput\u001b[39;49m(\u001b[39m\"\u001b[39;49m\u001b[39mPlease select an option (1-\u001b[39;49m\u001b[39m{}\u001b[39;49;00m\u001b[39m):\u001b[39;49m\u001b[39m\"\u001b[39;49m\u001b[39m.\u001b[39;49mformat(\u001b[39mlen\u001b[39;49m(\u001b[39mself\u001b[39;49m\u001b[39m.\u001b[39;49mconference_importance[\u001b[39m'\u001b[39;49m\u001b[39mdictionaries\u001b[39;49m\u001b[39m'\u001b[39;49m][dict_name]\u001b[39m.\u001b[39;49mkeys()))))    \n\u001b[0;32m     <a href='vscode-notebook-cell:/c%3A/Users/myriampe/OneDrive/Documents/GitHub/The-Conference-Calculator/TheConferenceCalculator.ipynb#X14sZmlsZQ%3D%3D?line=37'>38</a>\u001b[0m user_info_score \u001b[39m=\u001b[39m \u001b[39mself\u001b[39m\u001b[39m.\u001b[39mconference_importance[\u001b[39m'\u001b[39m\u001b[39mdictionaries\u001b[39m\u001b[39m'\u001b[39m][dict_name][\u001b[39mlist\u001b[39m(\u001b[39mself\u001b[39m\u001b[39m.\u001b[39mconference_importance[\u001b[39m'\u001b[39m\u001b[39mdictionaries\u001b[39m\u001b[39m'\u001b[39m][dict_name]\u001b[39m.\u001b[39mkeys())[user_info\u001b[39m-\u001b[39m\u001b[39m1\u001b[39m]]   \n\u001b[0;32m     <a href='vscode-notebook-cell:/c%3A/Users/myriampe/OneDrive/Documents/GitHub/The-Conference-Calculator/TheConferenceCalculator.ipynb#X14sZmlsZQ%3D%3D?line=39'>40</a>\u001b[0m \u001b[39mreturn\u001b[39;00m user_info_score\n",
      "\u001b[1;31mValueError\u001b[0m: invalid literal for int() with base 10: ''"
     ]
    }
   ],
   "source": [
    "class ConferenceImportance:\n",
    "    def __init__(self):\n",
    "        self.conference_importance = {'dictionaries': {},\n",
    "                                      'information': {}}\n",
    "        \n",
    "        dict_ECR = {\"Yes\": 1.5,\n",
    "                    \"No\": 1.}\n",
    "        \n",
    "        dict_presenting = { \"I'm not presenting anything\": 1,\n",
    "                            'I was SELECTED to present a POSTER': 5,\n",
    "                            'I was INVITED to present a POSTER': 6,\n",
    "                            'I was SELECTED to give a TALK (less than 15 minutes including questions)': 7,\n",
    "                            'I was INVITED to give a TALK (less than 15 minutes including questions)': 8,\n",
    "                            'I was SELECTED to give a TALK (15 minutes or more including questions)': 8,\n",
    "                            'I was INVITED to give a TALK (15 minutes or more including questions)': 9,\n",
    "                            'I was INVITED to chair a session': 5,\n",
    "                            'I was INVITED to be a panelist': 8,\n",
    "                            'I was INVITED to give a workshop': 10,\n",
    "                            'Other': None}\n",
    "    \n",
    "        dict_expertise = { 'Broad (e.g., all STEM conference, outreach conference)': 4,\n",
    "                            'Field-specific (e.g., physics conference)': 5,\n",
    "                            'Subfield-specific (e.g., astrophysics conference)': 6,\n",
    "                            'Topic-specific (e.g., black hole conference)': 8,\n",
    "                            'Research-specific (e.g., black hole feedback conference)': 10,\n",
    "                            'Other': None}\n",
    "\n",
    "        self.conference_importance['dictionaries']['dict_ECR'] = dict_ECR\n",
    "        self.conference_importance['dictionaries']['dict_presenting'] = dict_presenting\n",
    "        self.conference_importance['dictionaries']['dict_expertise'] = dict_expertise\n",
    "\n",
    "    def asking_question_from_dict(self, dict_name):\n",
    "\n",
    "        for idx, key in enumerate(self.conference_importance['dictionaries'][dict_name].keys()):\n",
    "            print(idx+1, '-', key)\n",
    "\n",
    "        user_info = int(input(\"Please select an option (1-{}):\".format(len(self.conference_importance['dictionaries'][dict_name].keys()))))    \n",
    "        user_info_score = self.conference_importance['dictionaries'][dict_name][list(self.conference_importance['dictionaries'][dict_name].keys())[user_info-1]]   \n",
    "\n",
    "        return user_info_score\n",
    "\n",
    "    def ask_ECR(self):\n",
    "        print('\\nQUESTION: Are you an Early Career Researcher (e.g., undergraduate student, postgraduate student, postdoctoral researcher, research assistant)?')\n",
    "        user_info_ECR_score = self.asking_question_from_dict('dict_ECR')\n",
    "        self.conference_importance['information']['info_ECR'] = user_info_ECR_score\n",
    "\n",
    "    def ask_presenting(self):\n",
    "        print('\\nQUESTION: Are you presenting at the conference?')\n",
    "        user_info_presenting_score = self.asking_question_from_dict('dict_presenting')\n",
    "\n",
    "        if user_info_presenting_score == None:\n",
    "            user_info_presenting_score = int(input('Please evaluate your contribution on a scale from 1 to 10: '))\n",
    "\n",
    "        self.conference_importance['information']['info_presenting'] = user_info_presenting_score * self.conference_importance['information']['info_ECR']\n",
    "    \n",
    "    def ask_expertise(self):\n",
    "        print('\\nQUESTION: How specific is the conference to your field of expertise?')\n",
    "        user_info_expertise_score = self.asking_question_from_dict('dict_expertise')\n",
    "\n",
    "        if user_info_expertise_score == None:\n",
    "            user_info_expertise_score = int(input('Please evaluate the importance (in terms of expertise) from 1 to 10: '))\n",
    "\n",
    "        self.conference_importance['information']['info_expertise'] = user_info_expertise_score\n",
    "\n",
    "    def main(self):\n",
    "        self.ask_ECR()\n",
    "        self.ask_presenting()    \n",
    "        self.ask_expertise()\n",
    "\n",
    "        return self.conference_importance\n",
    "\n",
    "conference_importance = conferenceImportance().main()\n",
    "        "
   ]
  },
  {
   "cell_type": "code",
   "execution_count": 54,
   "metadata": {},
   "outputs": [],
   "source": [
    "# Question: Are you an Early Career Researcher?\n",
    "\n",
    "\n",
    "# Question: Are you presenting?\n",
    "presentation_type = {\"I'm not presenting\": 0., \n",
    "                     \"I'm presenting a poster\": 5.,\n",
    "                     \"I'm presenting a talk\": 8.,\n",
    "                     \"I'm giving a workshop\": 15.,\n",
    "                     \"I was invited to give a talk\": 12.}\n",
    "\n",
    "presentation_type = input(\"Please enter your departure city: \")\n",
    "if starting_point not in list_of_cities.keys(): \n",
    "    raise Exception(\"City not available! Enter another city.\")\n",
    "\n",
    "journey_info['importance'] = 6."
   ]
  },
  {
   "attachments": {},
   "cell_type": "markdown",
   "metadata": {},
   "source": [
    "## 6. Outputs\n",
    "### 6.1 UK average carbon footprint (used for plotting)"
   ]
  },
  {
   "attachments": {},
   "cell_type": "markdown",
   "metadata": {},
   "source": [
    "### 6.1 2D plot"
   ]
  },
  {
   "cell_type": "code",
   "execution_count": 56,
   "metadata": {},
   "outputs": [
    {
     "name": "stdout",
     "output_type": "stream",
     "text": [
      "0.0 2000.0\n",
      "2000.0 4000.0\n",
      "4000.0 6000.0\n",
      "6000.0 8000.0\n",
      "8000.0 20000.0\n",
      "0 plane\n",
      "5000.0 6.0\n",
      "1 car\n",
      "1500.0 6.0\n",
      "2 train\n",
      "900.0 6.0\n"
     ]
    }
   ],
   "source": [
    "fig, ax = plt.subplots()\n",
    "\n",
    "def getImage(path):\n",
    "   return OffsetImage(plt.imread(path, format=\"png\"), zoom=0.15)\n",
    "\n",
    "def mean(a, b):\n",
    "    return (a+b)/2\n",
    "\n",
    "paths = ['images\\\\plane.png', 'images\\\\electric_car.png', 'images\\\\train.png']\n",
    "\n",
    "#with plt.xkcd():\n",
    "average_UK = 12700 # tonnes CO2e\n",
    "average_UK = 4000 # tonnes CO2e\n",
    "\n",
    "percentages = np.array([0., 0.5, 1., 1.5, 2., 5.])\n",
    "cf_percentages = average_UK * percentages\n",
    "\n",
    "list_c = ['red', 'green', 'blue', 'orange', 'purple']\n",
    "\n",
    "for idx in range(len(cf_percentages)-1):\n",
    "    print(cf_percentages[idx], cf_percentages[idx+1])\n",
    "    ax.axvspan(cf_percentages[idx], cf_percentages[idx+1], alpha=0.2, color=list_c[idx])\n",
    "    ax.text(mean(cf_percentages[idx], cf_percentages[idx+1]), 8, str(percentages[idx])+'–'+str(percentages[idx+1])+\"x\", color=list_c[idx], ha='center', fontsize=15)\n",
    "\n",
    "for idx, transport in enumerate(['plane', 'car', 'train']):\n",
    "   print(idx, transport)\n",
    "   print(journey_info['carbon_footprint_{}'.format(transport)], journey_info['importance'])\n",
    "   ab = AnnotationBbox(getImage(paths[idx]), (journey_info['carbon_footprint_{}'.format(transport)], journey_info['importance']), frameon=False)\n",
    "   ax.add_artist(ab)\n",
    "\n",
    "plt.xlim(0, 6000)\n",
    "plt.ylim(0, 10)\n",
    "plt.xlabel(\"Carbon footprint (tonnes CO2e)\", fontsize=15)\n",
    "plt.ylabel(\"Importance of the conference\", fontsize=15)\n",
    "plt.title('Conference in {} (departure from {})'.format(journey_info['destination_point'], journey_info['starting_point']), fontsize=15)\n",
    "plt.show()"
   ]
  }
 ],
 "metadata": {
  "kernelspec": {
   "display_name": "ConferenceCalculator",
   "language": "python",
   "name": "python3"
  },
  "language_info": {
   "codemirror_mode": {
    "name": "ipython",
    "version": 3
   },
   "file_extension": ".py",
   "mimetype": "text/x-python",
   "name": "python",
   "nbconvert_exporter": "python",
   "pygments_lexer": "ipython3",
   "version": "3.10.9"
  },
  "orig_nbformat": 4
 },
 "nbformat": 4,
 "nbformat_minor": 2
}
