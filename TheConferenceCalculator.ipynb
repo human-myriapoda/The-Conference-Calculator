{
 "cells": [
  {
   "attachments": {},
   "cell_type": "markdown",
   "metadata": {},
   "source": [
    "# General information\n",
    "This code is the central structure of `The Conference Calculator`. \n",
    "\n",
    "The sections of the basic version of the tool are:\n",
    "\n",
    "1. Basic inputs (starting point, location of the conference).\n",
    "2. Query conference database.\n",
    "3. Route calculation for different modes of transportation (car, train, plane).\n",
    "4. Carbon footprint calculation for different modes of transportation (car, train, plane).\n",
    "5. Importance of the conference.z\n",
    "6. Outputs (2D plot)."
   ]
  },
  {
   "attachments": {},
   "cell_type": "markdown",
   "metadata": {},
   "source": [
    "## 0. Importations"
   ]
  },
  {
   "cell_type": "code",
   "execution_count": 1,
   "metadata": {},
   "outputs": [],
   "source": [
    "import inquirer as iq\n",
    "import numpy as np\n",
    "import matplotlib.pyplot as plt\n",
    "import pandas as pd\n",
    "import urllib.request\n",
    "from matplotlib.offsetbox import OffsetImage, AnnotationBbox\n",
    "%matplotlib qt"
   ]
  },
  {
   "attachments": {},
   "cell_type": "markdown",
   "metadata": {},
   "source": [
    "## 1. Basic inputs\n",
    "Questions asked (for now!):\n",
    "1. What's your starting point?\n",
    "2. Where is the conference?"
   ]
  },
  {
   "cell_type": "code",
   "execution_count": 2,
   "metadata": {},
   "outputs": [
    {
     "name": "stdout",
     "output_type": "stream",
     "text": [
      "LIST OF AVAILABLE CITIES\n",
      "--------------------------------------\n",
      "London\n",
      "Paris\n",
      "Brussels\n",
      "Amsterdam\n",
      "Luxembourg\n",
      "Bern\n",
      "Berlin\n",
      "Copenhagen\n",
      "Prague\n",
      "Ljubljana\n",
      "Vienna\n",
      "Oslo\n",
      "Bratislava\n",
      "Madrid\n",
      "Zagreb\n",
      "Rome\n",
      "Budapest\n",
      "Warsaw\n",
      "Stockholm\n",
      "Sarajevo\n",
      "Lisbon\n",
      "--------------------------------------\n"
     ]
    },
    {
     "data": {
      "text/plain": [
       "{'starting_point': 'London', 'destination_point': 'Paris'}"
      ]
     },
     "execution_count": 2,
     "metadata": {},
     "output_type": "execute_result"
    }
   ],
   "source": [
    "list_of_cities = {\n",
    "    'London':'St Pancras International',\n",
    "    'Paris': 'Gare du Nord',\n",
    "    'Brussels': 'Brussel-Centraal',\n",
    "    'Amsterdam': 'Amsterdam Centraal',\n",
    "    'Luxembourg': 'Luxembourg Railway Station',\n",
    "    'Bern': 'Bern Railway Station',\n",
    "    'Berlin':'Berlin Hauptbahnhof',\n",
    "    'Copenhagen':'Copenhagen Central Station',\n",
    "    'Prague': 'Prague Main Railway Station',\n",
    "    'Ljubljana':'Ljubljana Train Station',\n",
    "    'Vienna': 'Vienna International Busterminal (VIB)',\n",
    "    'Oslo':'Oslo Central Station',\n",
    "    'Bratislava': 'Bratislava Hlavna',\n",
    "    'Madrid': 'Madrid Atocha',\n",
    "    'Zagreb':'Zagreb Glavni Kolod Train Station',\n",
    "    'Rome': 'Roma Termini',\n",
    "    'Budapest': 'Budapest Keleti',\n",
    "    'Warsaw': 'Warszawa Centralna railway station',\n",
    "    'Stockholm':'Stockholm Central Station',\n",
    "    'Sarajevo':'Sarajevo Main Railway station',\n",
    "    'Lisbon':'Rossio Railway Station', \n",
    "    }\n",
    "\n",
    "print(\"LIST OF AVAILABLE CITIES\")\n",
    "print(\"--------------------------------------\")\n",
    "for city in list_of_cities.keys(): print(city)\n",
    "print(\"--------------------------------------\")\n",
    "\n",
    "# Departure city (starting point)\n",
    "starting_point = input(\"Please enter your departure city: \")\n",
    "if starting_point not in list_of_cities.keys(): \n",
    "    raise Exception(\"City not available! Enter another city.\")\n",
    "\n",
    "# Destination city (destination point)\n",
    "destination_point = input(\"Please enter your destination city: \")\n",
    "if destination_point not in list_of_cities.keys(): \n",
    "    raise Exception(\"City not available! Enter another city.\")\n",
    "\n",
    "# Create dictionary with both cities\n",
    "journey_info = {'starting_point': starting_point, 'destination_point': destination_point}\n",
    "journey_info"
   ]
  },
  {
   "attachments": {},
   "cell_type": "markdown",
   "metadata": {},
   "source": [
    "## 2. Query conference database\n",
    "TODO: Add Lorenzo code"
   ]
  },
  {
   "attachments": {},
   "cell_type": "markdown",
   "metadata": {},
   "source": [
    "## 3. Route calculation\n",
    "TODO: Add Iona code\n",
    "\n",
    "Output: add distance from Google Maps API to `journey_info` for car, train and plane"
   ]
  },
  {
   "cell_type": "code",
   "execution_count": 3,
   "metadata": {},
   "outputs": [],
   "source": [
    "############# ADD CODE\n",
    "\n",
    "journey_info['distance_plane'] = 500.\n",
    "journey_info['distance_car'] = 300.\n",
    "journey_info['distance_train'] = 450."
   ]
  },
  {
   "attachments": {},
   "cell_type": "markdown",
   "metadata": {},
   "source": [
    "## 4. Carbon footprint calculation\n",
    "TODO: Add Tsvet & Jeremie code\n",
    "\n",
    "Output: add carbon footprint from Google Maps API to `journey_info` for car, train and plane"
   ]
  },
  {
   "cell_type": "code",
   "execution_count": 4,
   "metadata": {},
   "outputs": [],
   "source": [
    "############# ADD CODE\n",
    "\n",
    "journey_info['carbon_footprint_plane'] = 500. * 10\n",
    "journey_info['carbon_footprint_car'] = 300. * 5\n",
    "journey_info['carbon_footprint_train'] = 450. * 2"
   ]
  },
  {
   "attachments": {},
   "cell_type": "markdown",
   "metadata": {},
   "source": [
    "## 5. Importance of the conference\n",
    "- *Are you presenting?* $\\rightarrow$ talk, poster, invited talk, workshop lecture, etc.\n",
    "- *How often is the conference held?* $\\rightarrow$ e.g., every four years, unique conference, annually.\n",
    "- *How specific is the conference to your research project?* $\\rightarrow$ broad, specific, expert level?\n",
    "- *Is there a relevant workshop/session you want/need to attend?*\n",
    "- *Is the conference offered in hybrid mode?*\n",
    "- *Are you an Early Career Researcher?*"
   ]
  },
  {
   "cell_type": "code",
   "execution_count": 5,
   "metadata": {},
   "outputs": [],
   "source": [
    "# Question: Are you presenting?\n",
    "presentation_type = {\"I'm not presenting\": 0., \n",
    "                     \"I'm presenting a poster\": 5.,\n",
    "                     \"I'm presenting a talk\": 8.,\n",
    "                     \"I'm giving a workshop\": 15.,\n",
    "                     \"I was invited to give a talk\": 12.}\n",
    "presentation_type = input(\"Please enter your departure city: \")\n",
    "if starting_point not in list_of_cities.keys(): \n",
    "    raise Exception(\"City not available! Enter another city.\")\n",
    "\n",
    "journey_info['importance'] = 6."
   ]
  },
  {
   "attachments": {},
   "cell_type": "markdown",
   "metadata": {},
   "source": [
    "## 6. Outputs\n",
    "### 6.1 UK average carbon footprint (used for plotting)"
   ]
  },
  {
   "attachments": {},
   "cell_type": "markdown",
   "metadata": {},
   "source": [
    "### 6.1 2D plot"
   ]
  },
  {
   "cell_type": "code",
   "execution_count": 41,
   "metadata": {},
   "outputs": [
    {
     "name": "stdout",
     "output_type": "stream",
     "text": [
      "0.0 2000.0\n",
      "2000.0 4000.0\n",
      "4000.0 6000.0\n",
      "6000.0 8000.0\n",
      "8000.0 20000.0\n",
      "0 plane\n",
      "5000.0 6.0\n",
      "1 car\n",
      "1500.0 6.0\n",
      "2 train\n",
      "900.0 6.0\n"
     ]
    }
   ],
   "source": [
    "fig, ax = plt.subplots()\n",
    "\n",
    "def getImage(path):\n",
    "   return OffsetImage(plt.imread(path, format=\"png\"), zoom=0.15)\n",
    "\n",
    "def mean(a, b):\n",
    "    return (a+b)/2\n",
    "\n",
    "paths = ['images\\\\plane.png', 'images\\\\car.png', 'images\\\\train.png']\n",
    "\n",
    "#with plt.xkcd():\n",
    "average_UK = 12700 # tonnes CO2e\n",
    "average_UK = 4000 # tonnes CO2e\n",
    "\n",
    "percentages = np.array([0., 0.5, 1., 1.5, 2., 5.])\n",
    "cf_percentages = average_UK * percentages\n",
    "\n",
    "list_c = ['red', 'green', 'blue', 'orange', 'purple']\n",
    "\n",
    "for idx in range(len(cf_percentages)-1):\n",
    "    print(cf_percentages[idx], cf_percentages[idx+1])\n",
    "    ax.axvspan(cf_percentages[idx], cf_percentages[idx+1], alpha=0.2, color=list_c[idx])\n",
    "    ax.text(mean(cf_percentages[idx], cf_percentages[idx+1]), 8, str(percentages[idx])+'–'+str(percentages[idx+1])+\"x\", color=list_c[idx], ha='center', fontsize=15)\n",
    "\n",
    "for idx, transport in enumerate(['plane', 'car', 'train']):\n",
    "   print(idx, transport)\n",
    "   print(journey_info['carbon_footprint_{}'.format(transport)], journey_info['importance'])\n",
    "   ab = AnnotationBbox(getImage(paths[idx]), (journey_info['carbon_footprint_{}'.format(transport)], journey_info['importance']), frameon=False)\n",
    "   ax.add_artist(ab)\n",
    "\n",
    "plt.xlim(0, 6000)\n",
    "plt.ylim(0, 10)\n",
    "plt.xlabel(\"Carbon footprint (tonnes CO2e)\", fontsize=15)\n",
    "plt.ylabel(\"Importance of the conference\", fontsize=15)\n",
    "plt.title('Conference in {} (departure from {})'.format(journey_info['destination_point'], journey_info['starting_point']), fontsize=15)\n",
    "plt.show()"
   ]
  }
 ],
 "metadata": {
  "kernelspec": {
   "display_name": "ConferenceCalculator",
   "language": "python",
   "name": "python3"
  },
  "language_info": {
   "codemirror_mode": {
    "name": "ipython",
    "version": 3
   },
   "file_extension": ".py",
   "mimetype": "text/x-python",
   "name": "python",
   "nbconvert_exporter": "python",
   "pygments_lexer": "ipython3",
   "version": "3.10.9"
  },
  "orig_nbformat": 4
 },
 "nbformat": 4,
 "nbformat_minor": 2
}
