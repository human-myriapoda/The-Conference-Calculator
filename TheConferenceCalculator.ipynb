{
 "cells": [
  {
   "attachments": {},
   "cell_type": "markdown",
   "metadata": {},
   "source": [
    "# General information\n",
    "This code is the central structure of `The Conference Calculator`. \n",
    "\n",
    "The sections of the basic version of the tool are:\n",
    "\n",
    "1. Inputs (starting point, location of the conference).\n",
    "2. Query conference database.\n",
    "3. Route calculation for different modes of transportation (car, train, plane).\n",
    "4. Carbon footprint calculation for different modes of transportation (car, train, plane).\n",
    "5. Outputs (2D plot)."
   ]
  },
  {
   "attachments": {},
   "cell_type": "markdown",
   "metadata": {},
   "source": [
    "## 0. Importations"
   ]
  },
  {
   "cell_type": "code",
   "execution_count": 2,
   "metadata": {},
   "outputs": [],
   "source": [
    "import inquirer as iq\n",
    "import numpy as np\n",
    "import matplotlib.pyplot as plt\n",
    "import pandas as pd\n",
    "import urllib.request\n",
    "%matplotlib qt"
   ]
  },
  {
   "attachments": {},
   "cell_type": "markdown",
   "metadata": {},
   "source": [
    "## 1. Inputs\n",
    "Questions asked:\n",
    "1. What's your starting point?\n",
    "2. Where is the conference?"
   ]
  },
  {
   "cell_type": "code",
   "execution_count": 2,
   "metadata": {},
   "outputs": [],
   "source": [
    "list_of_cities = {\n",
    "    'London':'St Pancras International',\n",
    "    'Paris': 'Gare du Nord',\n",
    "    'Brussels': 'Brussel-Centraal',\n",
    "    'Amsterdam': 'Amsterdam Centraal',\n",
    "    'Luxembourg': 'Luxembourg Railway Station',\n",
    "    'Bern': 'Bern Railway Station',\n",
    "    'Berlin':'Berlin Hauptbahnhof',\n",
    "    'Copenhagen':'Copenhagen Central Station',\n",
    "    'Prague': 'Prague Main Railway Station',\n",
    "    'Ljubljana':'Ljubljana Train Station',\n",
    "    'Vienna': 'Vienna International Busterminal (VIB)',\n",
    "    'Oslo':'Oslo Central Station',\n",
    "    'Bratislava': 'Bratislava Hlavna',\n",
    "    'Madrid': 'Madrid Atocha',\n",
    "    'Zagreb':'Zagreb Glavni Kolod Train Station',\n",
    "    'Rome': 'Roma Termini',\n",
    "    'Budapest': 'Budapest Keleti',\n",
    "    'Warsaw': 'Warszawa Centralna railway station',\n",
    "    'Stockholm':'Stockholm Central Station',\n",
    "    'Sarajevo':'Sarajevo Main Railway station',\n",
    "    'Lisbon':'Rossio Railway Station', \n",
    "    }"
   ]
  },
  {
   "attachments": {},
   "cell_type": "markdown",
   "metadata": {},
   "source": [
    "### 1.1 Starting point"
   ]
  },
  {
   "cell_type": "code",
   "execution_count": 12,
   "metadata": {},
   "outputs": [
    {
     "name": "stdout",
     "output_type": "stream",
     "text": [
      "LIST OF AVAILABLE CITIES\n",
      "--------------------------------------\n",
      "London\n",
      "Paris\n",
      "Brussels\n",
      "Amsterdam\n",
      "Luxembourg\n",
      "Bern\n",
      "Berlin\n",
      "Copenhagen\n",
      "Prague\n",
      "Ljubljana\n",
      "Vienna\n",
      "Oslo\n",
      "Bratislava\n",
      "Madrid\n",
      "Zagreb\n",
      "Rome\n",
      "Budapest\n",
      "Warsaw\n",
      "Stockholm\n",
      "Sarajevo\n",
      "Lisbon\n",
      "--------------------------------------\n"
     ]
    },
    {
     "ename": "Exception",
     "evalue": "City not available! Enter another city.",
     "output_type": "error",
     "traceback": [
      "\u001b[1;31m---------------------------------------------------------------------------\u001b[0m",
      "\u001b[1;31mException\u001b[0m                                 Traceback (most recent call last)",
      "Cell \u001b[1;32mIn[12], line 8\u001b[0m\n\u001b[0;32m      6\u001b[0m starting_point \u001b[39m=\u001b[39m \u001b[39minput\u001b[39m(\u001b[39m\"\u001b[39m\u001b[39mPlease enter your departure city: \u001b[39m\u001b[39m\"\u001b[39m)\n\u001b[0;32m      7\u001b[0m \u001b[39mif\u001b[39;00m starting_point \u001b[39mnot\u001b[39;00m \u001b[39min\u001b[39;00m list_of_cities\u001b[39m.\u001b[39mkeys(): \n\u001b[1;32m----> 8\u001b[0m     \u001b[39mraise\u001b[39;00m \u001b[39mException\u001b[39;00m(\u001b[39m\"\u001b[39m\u001b[39mCity not available! Enter another city.\u001b[39m\u001b[39m\"\u001b[39m)\n",
      "\u001b[1;31mException\u001b[0m: City not available! Enter another city."
     ]
    }
   ],
   "source": [
    "print(\"LIST OF AVAILABLE CITIES\")\n",
    "print(\"--------------------------------------\")\n",
    "for city in list_of_cities.keys(): print(city)\n",
    "print(\"--------------------------------------\")\n",
    "\n",
    "starting_point = input(\"Please enter your departure city: \")\n",
    "if starting_point not in list_of_cities.keys(): \n",
    "    raise Exception(\"City not available! Enter another city.\")"
   ]
  },
  {
   "attachments": {},
   "cell_type": "markdown",
   "metadata": {},
   "source": [
    "### 1.2 Destination"
   ]
  },
  {
   "cell_type": "code",
   "execution_count": null,
   "metadata": {},
   "outputs": [],
   "source": [
    "destination_point = input(\"Please enter your destination city: \")\n",
    "if destination_point not in list_of_cities.keys(): \n",
    "    raise Exception(\"City not available! Enter another city.\")"
   ]
  },
  {
   "cell_type": "code",
   "execution_count": 3,
   "metadata": {},
   "outputs": [
    {
     "name": "stdout",
     "output_type": "stream",
     "text": [
      "https://conferencealerts.com/show-event?id=249862\n",
      "it worked!\n",
      "https://conferencealerts.com/show-event?id=249863\n",
      "it worked!\n",
      "https://conferencealerts.com/show-event?id=249864\n",
      "it worked!\n",
      "https://conferencealerts.com/show-event?id=249865\n",
      "it worked!\n"
     ]
    }
   ],
   "source": [
    "# Create a dictionary with both cities\n",
    "\n",
    "web_url = urllib.request.urlopen(\"https://conferencealerts.com/show-event?id=\")\n",
    "data = str(web_url.read())\n",
    "\n",
    "for id in range(249862, 249866, 1):\n",
    "\n",
    "    link = \"https://conferencealerts.com/show-event?id={}\".format(id)\n",
    "    print(link)\n",
    "\n",
    "    try:\n",
    "    \n",
    "        web_url = urllib.request.urlopen(link)\n",
    "\n",
    "    except:\n",
    "        continue\n",
    "\n",
    "    print('it worked!')\n",
    "    data = str(web_url.read())\n",
    "    #print(data)"
   ]
  }
 ],
 "metadata": {
  "kernelspec": {
   "display_name": "ConferenceCalculator",
   "language": "python",
   "name": "python3"
  },
  "language_info": {
   "codemirror_mode": {
    "name": "ipython",
    "version": 3
   },
   "file_extension": ".py",
   "mimetype": "text/x-python",
   "name": "python",
   "nbconvert_exporter": "python",
   "pygments_lexer": "ipython3",
   "version": "3.10.9"
  },
  "orig_nbformat": 4
 },
 "nbformat": 4,
 "nbformat_minor": 2
}
