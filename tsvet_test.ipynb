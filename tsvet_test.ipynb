{
 "cells": [
  {
   "cell_type": "code",
   "execution_count": 2,
   "metadata": {},
   "outputs": [
    {
     "name": "stdout",
     "output_type": "stream",
     "text": [
      "/home/tsvetoslav/Desktop/Conference Calculator/The-Conference-Calculator\n"
     ]
    },
    {
     "ename": "ModuleNotFoundError",
     "evalue": "No module named 'carbon'",
     "output_type": "error",
     "traceback": [
      "\u001b[0;31m---------------------------------------------------------------------------\u001b[0m",
      "\u001b[0;31mModuleNotFoundError\u001b[0m                       Traceback (most recent call last)",
      "\u001b[0;32m/tmp/ipykernel_127183/2765818114.py\u001b[0m in \u001b[0;36m<module>\u001b[0;34m\u001b[0m\n\u001b[1;32m      4\u001b[0m \u001b[0mprint\u001b[0m\u001b[0;34m(\u001b[0m\u001b[0mos\u001b[0m\u001b[0;34m.\u001b[0m\u001b[0mgetcwd\u001b[0m\u001b[0;34m(\u001b[0m\u001b[0;34m)\u001b[0m\u001b[0;34m)\u001b[0m\u001b[0;34m\u001b[0m\u001b[0;34m\u001b[0m\u001b[0m\n\u001b[1;32m      5\u001b[0m \u001b[0;31m#sys.path.insert(0, os.getcwd())\u001b[0m\u001b[0;34m\u001b[0m\u001b[0;34m\u001b[0m\u001b[0m\n\u001b[0;32m----> 6\u001b[0;31m \u001b[0;32mimport\u001b[0m \u001b[0mcarbon\u001b[0m\u001b[0;34m,\u001b[0m \u001b[0mcarbon_bus\u001b[0m\u001b[0;34m,\u001b[0m \u001b[0mcarbon_car\u001b[0m\u001b[0;34m,\u001b[0m \u001b[0mcarbon_flight\u001b[0m\u001b[0;34m\u001b[0m\u001b[0;34m\u001b[0m\u001b[0m\n\u001b[0m\u001b[1;32m      7\u001b[0m \u001b[0;34m\u001b[0m\u001b[0m\n\u001b[1;32m      8\u001b[0m \u001b[0mbusco2\u001b[0m \u001b[0;34m=\u001b[0m \u001b[0mcarbon_bus\u001b[0m\u001b[0;34m.\u001b[0m\u001b[0mCarbonBus\u001b[0m\u001b[0;34m(\u001b[0m\u001b[0;34m)\u001b[0m\u001b[0;34m\u001b[0m\u001b[0;34m\u001b[0m\u001b[0m\n",
      "\u001b[0;31mModuleNotFoundError\u001b[0m: No module named 'carbon'"
     ]
    }
   ],
   "source": [
    "import numpy as np\n",
    "import os,sys\n",
    "\n",
    "print(os.getcwd())\n",
    "#sys.path.insert(0, os.getcwd())\n",
    "import carbon, carbon_bus, carbon_car, carbon_flight\n",
    "\n",
    "busco2 = carbon_bus.CarbonBus()\n",
    "co2_bus = busco2.calculate_co2(50,'hauling-ass')\n",
    "print(co2_bus)\n",
    "\n",
    "flight1 = carbon_flight.CarbonFlight()\n",
    "co2_flight = flight1.calculate_co2_from_airports(iata_orig = 'LHR', iata_dest = 'SOF', pax_class = 'business-class', trip_type = 'shit')\n",
    "print(co2_flight)"
   ]
  }
 ],
 "metadata": {
  "kernelspec": {
   "display_name": "Python 3",
   "language": "python",
   "name": "python3"
  },
  "language_info": {
   "codemirror_mode": {
    "name": "ipython",
    "version": 3
   },
   "file_extension": ".py",
   "mimetype": "text/x-python",
   "name": "python",
   "nbconvert_exporter": "python",
   "pygments_lexer": "ipython3",
   "version": "3.10.10"
  },
  "orig_nbformat": 4,
  "vscode": {
   "interpreter": {
    "hash": "bfdf56cdef8a82532455c591ec211d5a2aac5273317ffa51272382d5dc4ba0c1"
   }
  }
 },
 "nbformat": 4,
 "nbformat_minor": 2
}
