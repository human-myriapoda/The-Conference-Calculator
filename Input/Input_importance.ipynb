{
 "cells": [
  {
   "cell_type": "code",
   "execution_count": 1,
   "metadata": {},
   "outputs": [],
   "source": [
    "import re\n",
    "import urllib.request\n",
    "import numpy as np\n",
    "import pandas as pd\n",
    "import pickle\n",
    "import os"
   ]
  },
  {
   "cell_type": "code",
   "execution_count": null,
   "metadata": {},
   "outputs": [],
   "source": [
    "path_to_urls = os.path.join(os.getcwd(), 'Input')\n",
    "\n",
    "file_urls = 'files_already_retrieved.data'\n",
    "\n",
    "path_to_file = os.path.join(path_to_urls, file_urls)\n",
    "\n",
    "if os.path.exists(path_to_file):\n",
    "\n",
    "    with open(f, 'rb') as f:\n",
    "\n",
    "        files_already_retrieved = pickle.load(f)\n",
    "\n",
    "\n",
    "else:\n",
    "\n",
    "    # running the code for the first time\\"
   ]
  },
  {
   "cell_type": "code",
   "execution_count": null,
   "metadata": {},
   "outputs": [],
   "source": [
    "web_url = urllib.request.urlopen(\"https://conferencealerts.com/show-event?id=\")\n",
    "\n",
    "data = []\n",
    "\n",
    "path_to_urls = os.path.join(os.getcwd(), 'Input')\n",
    "\n",
    "##ideal numbers 244000 to 255000\n",
    "\n",
    "for id in range(244000, 255000, 1):\n",
    "\n",
    "    link = \"https://conferencealerts.com/show-event?id={}\".format(id)\n",
    "\n",
    "    if link is in files_already_retrieved:\n",
    "        continue\n",
    "    else:\n",
    "        try:\n",
    "            web_url = urllib.request.urlopen(link)\n",
    "\n",
    "        except:\n",
    "            continue\n",
    "        data += [str(web_url.read())]\n",
    "\n",
    "# (...)\n",
    "        files_already_retrieved.append(link)\n",
    "\n",
    "# Save dictionary\n",
    "\n",
    "with open(path_to_file) as f:\n",
    "\n",
    "    pickle.dump(INFO, f)\n",
    "\n",
    "has context menu\n",
    "    \n",
    "    #print(data)"
   ]
  },
  {
   "cell_type": "code",
   "execution_count": 46,
   "metadata": {},
   "outputs": [],
   "source": [
    "pattern_title = r\"title\\>(.*?)\\</title\"\n",
    "\n",
    "pattern_dates = r'id=\"eventDate\"\\>(.*?)\\<'\n",
    "\n",
    "pattern_location = r'id=\"eventCountry\"\\>(.*?)\\<'\n",
    "\n",
    "pattern_badge = r'badge\"\\>(.*?)\\<'\n",
    "\n",
    "pattern_website = r'onclick=\"trackOutboundLink(\\(.*?);'\n",
    "\n",
    "title = []\n",
    "for j in range(len(data)):\n",
    "\n",
    "    title += re.findall(pattern_title, data[j])\n",
    "    \n",
    "dates = []\n",
    "for j in range(len(data)):\n",
    "\n",
    " dates += re.findall(pattern_dates,data[j])\n",
    "\n",
    "location = []\n",
    "for j in range(len(data)):\n",
    "   location += re.findall(pattern_location,data[j])\n",
    "\n",
    "badge =[]\n",
    "for j in range(len(data)):\n",
    "   badge += re.findall(pattern_badge,data[j])\n",
    "\n",
    "website= []\n",
    "for j in range(len(data)):\n",
    "    website += re.findall(pattern_website,data[j])\n",
    "\n",
    "\n",
    "\n",
    "array_temp = np.column_stack((np.array(title), np.array(dates),np.array(location), np.array(badge), np.array(website)))\n",
    "\n",
    "df = pd.DataFrame(array_temp, columns = ['title', 'dates', 'location', 'badge', 'website'])\n",
    "\n",
    "#df = pd.DataFrame({'Conference Title':title,'Dates':dates,'Location':location, 'Conference modality':badge, 'Website':website})    \n",
    "df.to_csv('Conference_database.csv', index=False, encoding='utf-8')\n",
    "\n",
    "\n",
    "#####possible future developments: there are data on the other events at the same place and time (potential sinergy) and there are info\n"
   ]
  },
  {
   "cell_type": "code",
   "execution_count": null,
   "metadata": {},
   "outputs": [],
   "source": []
  }
 ],
 "metadata": {
  "kernelspec": {
   "display_name": "ConferenceCalculator",
   "language": "python",
   "name": "python3"
  },
  "language_info": {
   "codemirror_mode": {
    "name": "ipython",
    "version": 3
   },
   "file_extension": ".py",
   "mimetype": "text/x-python",
   "name": "python",
   "nbconvert_exporter": "python",
   "pygments_lexer": "ipython3",
   "version": "3.10.9"
  },
  "orig_nbformat": 4,
  "vscode": {
   "interpreter": {
    "hash": "9fe05d02eaceb74751b7b9a0860c8b8de9496438ae0e8ca75555c0a4e21a0e02"
   }
  }
 },
 "nbformat": 4,
 "nbformat_minor": 2
}
