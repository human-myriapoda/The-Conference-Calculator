{
 "cells": [
  {
   "cell_type": "code",
   "execution_count": 2,
   "metadata": {},
   "outputs": [],
   "source": [
    "import re\n",
    "import urllib.request\n",
    "import numpy as np\n",
    "import pandas as pd\n",
    "import pickle\n",
    "import os"
   ]
  },
  {
   "cell_type": "code",
   "execution_count": 10,
   "metadata": {},
   "outputs": [
    {
     "name": "stdout",
     "output_type": "stream",
     "text": [
      "[]\n"
     ]
    }
   ],
   "source": [
    "path_to_urls = os.path.join(os.getcwd(), 'Input')\n",
    "\n",
    "file_urls = 'files_already_retrieved.data'\n",
    "\n",
    "path_to_file = os.path.join(path_to_urls, file_urls)\n",
    "\n",
    "\n",
    "\n",
    "if os.path.exists(path_to_file):\n",
    "\n",
    "    with open(path_to_file, 'rb') as f:\n",
    "\n",
    "        files_already_retrieved = pickle.load(f)\n",
    "else:\n",
    "     files_already_retrieved = []\n",
    "\n",
    "print(files_already_retrieved)"
   ]
  },
  {
   "cell_type": "code",
   "execution_count": 33,
   "metadata": {},
   "outputs": [
    {
     "ename": "TypeError",
     "evalue": "array() missing required argument 'object' (pos 0)",
     "output_type": "error",
     "traceback": [
      "\u001b[0;31m---------------------------------------------------------------------------\u001b[0m",
      "\u001b[0;31mTypeError\u001b[0m                                 Traceback (most recent call last)",
      "Cell \u001b[0;32mIn[33], line 9\u001b[0m\n\u001b[1;32m      5\u001b[0m \u001b[39m##ideal numbers 244000 to 255000?\u001b[39;00m\n\u001b[1;32m      7\u001b[0m \u001b[39mfor\u001b[39;00m \u001b[39mid\u001b[39m \u001b[39min\u001b[39;00m \u001b[39mrange\u001b[39m(\u001b[39m244000\u001b[39m, \u001b[39m244009\u001b[39m, \u001b[39m1\u001b[39m):\n\u001b[0;32m----> 9\u001b[0m     array_def \u001b[39m=\u001b[39m np\u001b[39m.\u001b[39;49marray()\n\u001b[1;32m     11\u001b[0m     link \u001b[39m=\u001b[39m \u001b[39m\"\u001b[39m\u001b[39mhttps://conferencealerts.com/show-event?id=\u001b[39m\u001b[39m{}\u001b[39;00m\u001b[39m\"\u001b[39m\u001b[39m.\u001b[39mformat(\u001b[39mid\u001b[39m)\n\u001b[1;32m     13\u001b[0m     \u001b[39mif\u001b[39;00m \u001b[39mid\u001b[39m \u001b[39min\u001b[39;00m files_already_retrieved:\n",
      "\u001b[0;31mTypeError\u001b[0m: array() missing required argument 'object' (pos 0)"
     ]
    }
   ],
   "source": [
    "data = []\n",
    "\n",
    "\n",
    "\n",
    "##ideal numbers 244000 to 255000?\n",
    "\n",
    "for id in range(244000, 244009, 1):\n",
    "\n",
    "    array_def = np.array()\n",
    "\n",
    "    link = \"https://conferencealerts.com/show-event?id={}\".format(id)\n",
    "\n",
    "    if id in files_already_retrieved:\n",
    "        continue\n",
    "\n",
    "    else:\n",
    "        try:\n",
    "            web_url = urllib.request.urlopen(link)\n",
    "\n",
    "        except:\n",
    "            continue\n",
    "        \n",
    "        data = str(web_url.read())\n",
    "\n",
    "        title = re.findall(r\"title\\>(.*?)\\</title\", data)\n",
    "        dates = re.findall(r'id=\"eventDate\"\\>(.*?)\\<',data)\n",
    "        location = re.findall(r'id=\"eventCountry\"\\>(.*?)\\<',data)\n",
    "        badge = re.findall(r'badge\"\\>(.*?)\\<',data)\n",
    "        website = re.findall(r'onclick=\"trackOutboundLink(\\(.*?);',data)\n",
    "        array_temp = np.column_stack((np.array(title), np.array(dates),np.array(location), np.array(badge), np.array(website)))\n",
    "    \n",
    "    np.append (array_def, array_temp, axis=0)\n",
    "\n",
    "print(array_def)\n",
    "print(array_temp)"
   ]
  },
  {
   "cell_type": "code",
   "execution_count": null,
   "metadata": {},
   "outputs": [],
   "source": []
  },
  {
   "cell_type": "code",
   "execution_count": 46,
   "metadata": {},
   "outputs": [],
   "source": [
    "\n",
    "    files_already_retrieved.append(id)\n",
    "    \n",
    "    with open(path_to_file, 'wb') as f:\n",
    "        pickle.dump(files_already_retrieved, f)\n",
    "\n",
    "pattern_title = r\"title\\>(.*?)\\</title\"\n",
    "\n",
    "pattern_dates = r'id=\"eventDate\"\\>(.*?)\\<'\n",
    "\n",
    "pattern_location = r'id=\"eventCountry\"\\>(.*?)\\<'\n",
    "\n",
    "pattern_badge = r'badge\"\\>(.*?)\\<'\n",
    "\n",
    "pattern_website = r'onclick=\"trackOutboundLink(\\(.*?);'\n",
    "\n",
    "\n",
    "title = []\n",
    "for j in range(len(data)):\n",
    "\n",
    "    title = re.findall(r\"title\\>(.*?)\\</title\")\n",
    "    \n",
    "dates = []\n",
    "for j in range(len(data)):\n",
    "\n",
    " dates += re.findall(pattern_dates,data[j])\n",
    "\n",
    "location = []\n",
    "for j in range(len(data)):\n",
    "   location += re.findall(pattern_location,data[j])\n",
    "\n",
    "badge =[]\n",
    "for j in range(len(data)):\n",
    "   badge += re.findall(pattern_badge,data[j])\n",
    "\n",
    "website= []\n",
    "for j in range(len(data)):\n",
    "    website += re.findall(pattern_website,data[j])\n",
    "\n",
    "\n",
    "\n",
    "array_temp = np.column_stack((np.array(title), np.array(dates),np.array(location), np.array(badge), np.array(website)))\n",
    "\n",
    "\n",
    "\n",
    "df = pd.DataFrame(array_temp, columns = ['title', 'dates', 'location', 'badge', 'website'])\n",
    "\n",
    "#df = pd.DataFrame({'Conference Title':title,'Dates':dates,'Location':location, 'Conference modality':badge, 'Website':website})    \n",
    "df.to_csv('Conference_database.csv', index=False, encoding='utf-8')\n",
    "\n",
    "\n",
    "#####possible future developments: there are data on the other events at the same place and time (potential sinergy) and there are info\n"
   ]
  },
  {
   "cell_type": "code",
   "execution_count": null,
   "metadata": {},
   "outputs": [],
   "source": []
  }
 ],
 "metadata": {
  "kernelspec": {
   "display_name": "ConferenceCalculator",
   "language": "python",
   "name": "python3"
  },
  "language_info": {
   "codemirror_mode": {
    "name": "ipython",
    "version": 3
   },
   "file_extension": ".py",
   "mimetype": "text/x-python",
   "name": "python",
   "nbconvert_exporter": "python",
   "pygments_lexer": "ipython3",
   "version": "3.10.9"
  },
  "orig_nbformat": 4,
  "vscode": {
   "interpreter": {
    "hash": "9fe05d02eaceb74751b7b9a0860c8b8de9496438ae0e8ca75555c0a4e21a0e02"
   }
  }
 },
 "nbformat": 4,
 "nbformat_minor": 2
}
