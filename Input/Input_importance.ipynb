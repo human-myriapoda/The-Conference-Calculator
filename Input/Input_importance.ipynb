{
 "cells": [
  {
   "cell_type": "code",
   "execution_count": 44,
   "metadata": {},
   "outputs": [],
   "source": [
    "import re\n",
    "import urllib.request\n",
    "import numpy as np\n",
    "import pandas as pd"
   ]
  },
  {
   "cell_type": "code",
   "execution_count": null,
   "metadata": {},
   "outputs": [],
   "source": []
  },
  {
   "cell_type": "code",
   "execution_count": 39,
   "metadata": {},
   "outputs": [],
   "source": [
    "for \n",
    "web_url = urllib.request.urlopen(\"https://conferencealerts.com/show-event?id=249862\")\n",
    "data = str(web_url.read())\n",
    "#print(data)"
   ]
  },
  {
   "cell_type": "code",
   "execution_count": 46,
   "metadata": {},
   "outputs": [],
   "source": [
    "pattern_title = r\"title\\>(.*?)\\</title\"\n",
    "title = re.findall(pattern_title, data)\n",
    "\n",
    "pattern_dates = r'id=\"eventDate\"\\>(.*?)\\<'\n",
    "dates = re.findall(pattern_dates,data)\n",
    "\n",
    "pattern_location = r'id=\"eventCountry\"\\>(.*?)\\<'\n",
    "location = re.findall(pattern_location,data)\n",
    "\n",
    "pattern_badge = r'badge\"\\>(.*?)\\<'\n",
    "badge = re.findall(pattern_badge,data)\n",
    "\n",
    "pattern_website = r'onclick=\"trackOutboundLink(\\(.*?);'\n",
    "website = re.findall(pattern_website,data)\n",
    "\n",
    "df = pd.DataFrame({'Conference Title':title,'Dates':dates,'Location':location, 'Conference modality':badge, 'Website':website}) \n",
    "df.to_csv('Conference_database.csv', index=False, encoding='utf-8')\n",
    "\n",
    "\n",
    "#####possible future developments: there are data on the other events at the same place and time (potential sinergy) and there are info\n"
   ]
  },
  {
   "cell_type": "code",
   "execution_count": null,
   "metadata": {},
   "outputs": [],
   "source": []
  }
 ],
 "metadata": {
  "kernelspec": {
   "display_name": "ConferenceCalculator",
   "language": "python",
   "name": "python3"
  },
  "language_info": {
   "codemirror_mode": {
    "name": "ipython",
    "version": 3
   },
   "file_extension": ".py",
   "mimetype": "text/x-python",
   "name": "python",
   "nbconvert_exporter": "python",
   "pygments_lexer": "ipython3",
   "version": "3.10.9"
  },
  "orig_nbformat": 4,
  "vscode": {
   "interpreter": {
    "hash": "9fe05d02eaceb74751b7b9a0860c8b8de9496438ae0e8ca75555c0a4e21a0e02"
   }
  }
 },
 "nbformat": 4,
 "nbformat_minor": 2
}
