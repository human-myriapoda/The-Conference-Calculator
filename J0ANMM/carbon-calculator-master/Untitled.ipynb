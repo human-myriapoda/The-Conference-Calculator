{
 "cells": [
  {
   "cell_type": "code",
   "execution_count": null,
   "id": "0bdb6b4d",
   "metadata": {},
   "outputs": [],
   "source": [
    "import numpy as np\n",
    "from code import carbon, carbon_bus"
   ]
  },
  {
   "cell_type": "code",
   "execution_count": null,
   "id": "d6c34596",
   "metadata": {},
   "outputs": [],
   "source": [
    "a = np.array([5, 5])"
   ]
  },
  {
   "cell_type": "code",
   "execution_count": null,
   "id": "881bc99e",
   "metadata": {},
   "outputs": [],
   "source": [
    "print(a)"
   ]
  },
  {
   "cell_type": "code",
   "execution_count": null,
   "id": "18133320",
   "metadata": {},
   "outputs": [],
   "source": []
  },
  {
   "cell_type": "code",
   "execution_count": null,
   "id": "4451f344",
   "metadata": {},
   "outputs": [],
   "source": []
  },
  {
   "cell_type": "code",
   "execution_count": null,
   "id": "fae925c1",
   "metadata": {},
   "outputs": [],
   "source": []
  }
 ],
 "metadata": {
  "kernelspec": {
   "display_name": "Python 3 (ipykernel)",
   "language": "python",
   "name": "python3"
  },
  "language_info": {
   "codemirror_mode": {
    "name": "ipython",
    "version": 3
   },
   "file_extension": ".py",
   "mimetype": "text/x-python",
   "name": "python",
   "nbconvert_exporter": "python",
   "pygments_lexer": "ipython3",
   "version": "3.9.13"
  }
 },
 "nbformat": 4,
 "nbformat_minor": 5
}
