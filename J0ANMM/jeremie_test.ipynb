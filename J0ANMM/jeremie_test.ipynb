{
 "cells": [
  {
   "cell_type": "code",
   "execution_count": 16,
   "metadata": {},
   "outputs": [
    {
     "name": "stdout",
     "output_type": "stream",
     "text": [
      "1400\n",
      "Real distance: 2134 km\n",
      "499356\n",
      "Real distance: 2134 km\n"
     ]
    },
    {
     "data": {
      "text/plain": [
       "499356"
      ]
     },
     "execution_count": 16,
     "metadata": {},
     "output_type": "execute_result"
    }
   ],
   "source": [
    "import numpy as np\n",
    "import os,sys\n",
    "import carbon, carbon_bus, carbon_car, carbon_flight\n",
    "\n",
    "busco2 = carbon_bus.CarbonBus()\n",
    "co2_bus = busco2.calculate_co2(50,'hauling-ass')\n",
    "print(co2_bus)\n",
    "\n",
    "flightco2 = carbon_flight.CarbonFlight()\n",
    "co2_flight = flight1.calculate_co2_from_airports(iata_orig = 'LHR', iata_dest = 'SOF', pax_class = 'business-class', trip_type = 'shit')\n",
    "print(co2_flight)\n",
    "\n",
    "\n",
    "\n",
    "mode = input('transport mode:')\n",
    "\n",
    "if mode == 'bus':\n",
    "    def carbonFootprintTransport(distance, trip_type)\n",
    "        busco2 = carbon_bus.CarbonBus()\n",
    "        carbonFootprint = busco2.calculate_co2(distance, trip_type)\n",
    "elif mode == 'plane':\n",
    "    def carbonFootprintTransport(iata_orig, iata_dest, pax_class trip_type)\n",
    "return carbonFootprint\n",
    "    \n",
    "\n",
    "\n",
    "def carbonFootprintTransport(dict_transport):\n",
    "\n",
    "    mode = dict_transport['mode']\n",
    "\n",
    "    if mode == 'bus':\n",
    "        busco2 = carbon_bus.CarbonBus()\n",
    "        carbonFootprint = busco2.calculate_co2(dict_transport['distance'], dict_transport['trip_type'])\n",
    "\n",
    "    elif mode == 'plane':\n",
    "        flightco2 = carbon_flight.CarbonFlight()\n",
    "        carbonFootprint = flight1.calculate_co2_from_airports(iata_orig = 'LHR', iata_dest = 'SOF', pax_class = 'business-class', trip_type = 'shit')\n",
    "\n",
    "    return carbonFootprint\n",
    "\n",
    "carbonFootprintTransport(50, 'plane', 'hauling-ass')"
   ]
  },
  {
   "cell_type": "code",
   "execution_count": 6,
   "metadata": {},
   "outputs": [
    {
     "data": {
      "text/plain": [
       "'bus'"
      ]
     },
     "execution_count": 6,
     "metadata": {},
     "output_type": "execute_result"
    }
   ],
   "source": [
    "dict_test = {'key 1': 5., 'key 2': 'allo', 'key 3': [1, 2, 3]}\n",
    "\n",
    "dict_bus = {'mode': 'bus', 'distance': 5.0, 'trip_type': 'round-trip'}\n",
    "dict_plane = {'mode': 'car', 'distance': 5.0, 'fuel_type': 'sanfoi', }\n",
    "dict_bus['mode']\n"
   ]
  },
  {
   "cell_type": "code",
   "execution_count": 20,
   "metadata": {},
   "outputs": [],
   "source": [
    "dict_bus = {'mode': 'bus', 'distance': 5.0, 'trip_type': 'round-trip'}\n",
    "dict_car = {'mode': 'car', 'distance': 15.0, 'fuel_type': 'gaz'}\n",
    "dict_plane = {'mode': 'plane', 'distance': 115.0, 'airport_departure': 'London', 'airport_destination': 'Mexico'}"
   ]
  },
  {
   "cell_type": "code",
   "execution_count": 18,
   "metadata": {},
   "outputs": [],
   "source": [
    "def print_info(dict_transport):\n",
    "\n",
    "    mode = dict_transport['mode']\n",
    "\n",
    "    if mode == 'bus':\n",
    "\n",
    "        print(dict_transport['distance'])\n",
    "        print(dict_transport['trip_type'])\n",
    "\n",
    "    elif mode == 'car':\n",
    "\n",
    "        print(dict_transport['distance'])\n",
    "        print(dict_transport['fuel_type'])\n",
    "\n",
    "    elif mode == 'plane':\n",
    "\n",
    "        print(dict_transport['distance'])\n",
    "        print(dict_transport['airport_departure'])\n",
    "        print(dict_transport['airport_destination'])\n",
    "\n",
    "    return"
   ]
  },
  {
   "cell_type": "code",
   "execution_count": 23,
   "metadata": {},
   "outputs": [
    {
     "name": "stdout",
     "output_type": "stream",
     "text": [
      "5.0\n",
      "round-trip\n"
     ]
    }
   ],
   "source": [
    "print_info(dict_bus)"
   ]
  }
 ],
 "metadata": {
  "kernelspec": {
   "display_name": "ConferenceCalculator",
   "language": "python",
   "name": "python3"
  },
  "language_info": {
   "codemirror_mode": {
    "name": "ipython",
    "version": 3
   },
   "file_extension": ".py",
   "mimetype": "text/x-python",
   "name": "python",
   "nbconvert_exporter": "python",
   "pygments_lexer": "ipython3",
   "version": "3.10.9"
  },
  "orig_nbformat": 4,
  "vscode": {
   "interpreter": {
    "hash": "426609f4ca109b3603ecc2fb4fccd371fc19cee002954c1f482e0949bf76f2ba"
   }
  }
 },
 "nbformat": 4,
 "nbformat_minor": 2
}
