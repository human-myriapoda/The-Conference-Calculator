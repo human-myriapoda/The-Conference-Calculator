{
 "cells": [
  {
   "cell_type": "code",
   "execution_count": 16,
   "metadata": {},
   "outputs": [
    {
     "name": "stdout",
     "output_type": "stream",
     "text": [
      "1400\n",
      "Real distance: 2134 km\n",
      "499356\n",
      "Real distance: 2134 km\n"
     ]
    },
    {
     "data": {
      "text/plain": [
       "499356"
      ]
     },
     "execution_count": 16,
     "metadata": {},
     "output_type": "execute_result"
    }
   ],
   "source": [
    "import numpy as np\n",
    "import os,sys\n",
    "import carbon, carbon_bus, carbon_car, carbon_flight\n",
    "\n",
    "busco2 = carbon_bus.CarbonBus()\n",
    "co2_bus = busco2.calculate_co2(50,'hauling-ass')\n",
    "print(co2_bus)\n",
    "\n",
    "flightco2 = carbon_flight.CarbonFlight()\n",
    "co2_flight = flight1.calculate_co2_from_airports(iata_orig = 'LHR', iata_dest = 'SOF', pax_class = 'business-class', trip_type = 'shit')\n",
    "print(co2_flight)\n",
    "\n",
    "\n",
    "\n",
    "mode = input('transport mode:')\n",
    "\n",
    "if mode == 'bus':\n",
    "    def carbonFootprintTransport(distance, trip_type)\n",
    "        busco2 = carbon_bus.CarbonBus()\n",
    "        carbonFootprint = busco2.calculate_co2(distance, trip_type)\n",
    "elif mode == 'plane':\n",
    "    def carbonFootprintTransport(iata_orig, iata_dest, pax_class trip_type)\n",
    "return carbonFootprint\n",
    "    \n",
    "\n",
    "\n",
    "def carbonFootprintTransport(distance, mode, trip_type):\n",
    "\n",
    "    if mode == 'bus':\n",
    "        busco2 = carbon_bus.CarbonBus()\n",
    "        carbonFootprint = busco2.calculate_co2(distance, trip_type)\n",
    "\n",
    "    elif mode == 'plane':\n",
    "        flightco2 = carbon_flight.CarbonFlight()\n",
    "        carbonFootprint = flight1.calculate_co2_from_airports(iata_orig = 'LHR', iata_dest = 'SOF', pax_class = 'business-class', trip_type = 'shit')\n",
    "\n",
    "    return carbonFootprint\n",
    "\n",
    "carbonFootprintTransport(50, 'plane', 'hauling-ass')"
   ]
  },
  {
   "cell_type": "code",
   "execution_count": null,
   "metadata": {},
   "outputs": [],
   "source": []
  }
 ],
 "metadata": {
  "kernelspec": {
   "display_name": "Python 3",
   "language": "python",
   "name": "python3"
  },
  "language_info": {
   "codemirror_mode": {
    "name": "ipython",
    "version": 3
   },
   "file_extension": ".py",
   "mimetype": "text/x-python",
   "name": "python",
   "nbconvert_exporter": "python",
   "pygments_lexer": "ipython3",
   "version": "3.10.6"
  },
  "orig_nbformat": 4,
  "vscode": {
   "interpreter": {
    "hash": "916dbcbb3f70747c44a77c7bcd40155683ae19c65e1c03b4aa3499c5328201f1"
   }
  }
 },
 "nbformat": 4,
 "nbformat_minor": 2
}
