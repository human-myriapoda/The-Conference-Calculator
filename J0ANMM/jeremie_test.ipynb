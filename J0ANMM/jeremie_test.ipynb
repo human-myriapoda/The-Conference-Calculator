{
 "cells": [
  {
   "cell_type": "code",
   "execution_count": 19,
   "metadata": {},
   "outputs": [
    {
     "name": "stdout",
     "output_type": "stream",
     "text": [
      "85150\n",
      "Real distance: 2134 km\n",
      "499356\n",
      "7627\n",
      "1400\n",
      "25156\n"
     ]
    }
   ],
   "source": [
    "import numpy as np\n",
    "import os,sys\n",
    "import carbon, carbon_bus, carbon_car, carbon_flight, carbon_ferry, carbon_train\n",
    "\n",
    "dict_bus = {'mode': 'bus', 'distance': 25.0, 'trip_type': 'round-trip'}#\n",
    "dict_plane = {'mode': 'plane', 'iata_orig': 'LHR', 'iata_dest': 'SOF', 'pax_class': 'business-class', 'trip_type': 'shit'}\n",
    "dict_car = {'mode': 'car', 'distance': 55.0, 'fuel_type': 'diesel', 'fuel_consumption': 13.0, 'electricity_consumption': 60.0, 'electricity_country_code': 'UK', 'pax_in_car': 3, 'trip_type': 'shit'}\n",
    "dict_ferry = {'mode': 'ferry', 'distance': 655.0, 'vehicle_ferry':'with-vehicle', 'trip_type': 'Repouet'}\n",
    "dict_train = {'mode': 'train', 'distance': 420.0, 'train_energy': 'electric', 'train_country': 'UK', 'trip_type':'round-trip'}\n",
    "\n",
    "def carbonFootprintTransport(dict_transport):\n",
    "\n",
    "    mode = dict_transport['mode']\n",
    "\n",
    "    if mode == 'bus':\n",
    "        busco2 = carbon_bus.CarbonBus()\n",
    "        carbonFootprint = busco2.calculate_co2(dict_transport['distance'], dict_transport['trip_type'])\n",
    "\n",
    "    elif mode == 'plane':\n",
    "        flightco2 = carbon_flight.CarbonFlight()\n",
    "        carbonFootprint = flightco2.calculate_co2_from_airports(dict_transport['iata_orig'], dict_transport['iata_dest'], dict_transport['pax_class'], dict_transport['trip_type'])\n",
    "    \n",
    "    elif mode == 'car':\n",
    "        carco2 = carbon_car.CarbonCar()\n",
    "        carbonFootprint = carco2.calculate_co2(dict_transport['distance'], dict_transport['fuel_type'], dict_transport['fuel_consumption'], dict_transport['electricity_consumption'], dict_transport['electricity_country_code'], dict_transport['pax_in_car'], dict_transport['trip_type'])\n",
    "\n",
    "    elif mode == 'ferry':\n",
    "        ferryco2 = carbon_ferry.CarbonFerry()\n",
    "        carbonFootprint = ferryco2.calculate_co2(dict_transport['distance'], dict_transport['vehicle_ferry'], dict_transport['trip_type'])\n",
    "\n",
    "    elif mode == 'train':\n",
    "        trainco2 = carbon_train.CarbonTrain()\n",
    "        carbonFootprint = trainco2.calculate_co2(dict_transport['distance'], dict_transport['train_energy'], dict_transport['train_country'], dict_transport['trip_type'])\n",
    "\n",
    "    return carbonFootprint\n",
    "\n",
    "print(carbonFootprintTransport(dict_ferry))\n",
    "print(carbonFootprintTransport(dict_plane))\n",
    "print(carbonFootprintTransport(dict_car))\n",
    "print(carbonFootprintTransport(dict_bus))\n",
    "print(carbonFootprintTransport(dict_train))"
   ]
  },
  {
   "cell_type": "code",
   "execution_count": 6,
   "metadata": {},
   "outputs": [
    {
     "data": {
      "text/plain": [
       "'bus'"
      ]
     },
     "execution_count": 6,
     "metadata": {},
     "output_type": "execute_result"
    }
   ],
   "source": [
    "dict_test = {'key 1': 5., 'key 2': 'allo', 'key 3': [1, 2, 3]}\n",
    "\n",
    "dict_bus = {'mode': 'bus', 'distance': 5.0, 'trip_type': 'round-trip'}\n",
    "dict_plane = {'mode': 'car', 'distance': 5.0, 'fuel_type': 'sanfoi', }\n",
    "dict_bus['mode']\n"
   ]
  },
  {
   "cell_type": "code",
   "execution_count": 20,
   "metadata": {},
   "outputs": [],
   "source": [
    "dict_bus = {'mode': 'bus', 'distance': 5.0, 'trip_type': 'round-trip'}\n",
    "dict_car = {'mode': 'car', 'distance': 15.0, 'fuel_type': 'gaz'}\n",
    "dict_plane = {'mode': 'plane', 'distance': 115.0, 'airport_departure': 'London', 'airport_destination': 'Mexico'}"
   ]
  },
  {
   "cell_type": "code",
   "execution_count": 18,
   "metadata": {},
   "outputs": [],
   "source": [
    "def print_info(dict_transport):\n",
    "\n",
    "    mode = dict_transport['mode']\n",
    "\n",
    "    if mode == 'bus':\n",
    "\n",
    "        print(dict_transport['distance'])\n",
    "        print(dict_transport['trip_type'])\n",
    "\n",
    "    elif mode == 'car':\n",
    "\n",
    "        print(dict_transport['distance'])\n",
    "        print(dict_transport['fuel_type'])\n",
    "\n",
    "    elif mode == 'plane':\n",
    "\n",
    "        print(dict_transport['distance'])\n",
    "        print(dict_transport['airport_departure'])\n",
    "        print(dict_transport['airport_destination'])\n",
    "\n",
    "    return"
   ]
  }
 ],
 "metadata": {
  "kernelspec": {
   "display_name": "Python 3",
   "language": "python",
   "name": "python3"
  },
  "language_info": {
   "codemirror_mode": {
    "name": "ipython",
    "version": 3
   },
   "file_extension": ".py",
   "mimetype": "text/x-python",
   "name": "python",
   "nbconvert_exporter": "python",
   "pygments_lexer": "ipython3",
   "version": "3.10.9"
  },
  "orig_nbformat": 4,
  "vscode": {
   "interpreter": {
    "hash": "916dbcbb3f70747c44a77c7bcd40155683ae19c65e1c03b4aa3499c5328201f1"
   }
  }
 },
 "nbformat": 4,
 "nbformat_minor": 2
}
