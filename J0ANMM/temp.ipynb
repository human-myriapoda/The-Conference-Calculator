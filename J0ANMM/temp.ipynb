{
 "cells": [
  {
   "cell_type": "code",
   "execution_count": 1,
   "id": "0bdb6b4d",
   "metadata": {},
   "outputs": [
    {
     "name": "stdout",
     "output_type": "stream",
     "text": [
      "1400\n",
      "Real distance: 2134 km\n"
     ]
    }
   ],
   "source": [
    "import numpy as np\n",
    "import os,sys\n",
    "\n",
    "import carbon, carbon_bus, carbon_car, carbon_flight\n",
    "\n",
    "busco2 = carbon_bus.CarbonBus()\n",
    "co2_bus = busco2.calculate_co2(50,'hauling-ass')\n",
    "print(co2_bus)\n",
    "\n",
    "flight1 = carbon_flight.CarbonFlight()\n",
    "co2_flight = flight1.calculate_co2_from_airports(iata_orig = 'LHR', iata_dest = 'SOF', pax_class = 'business-class', trip_type = 'shit')\n",
    "print(co2_flight)"
   ]
  },
  {
   "cell_type": "code",
   "execution_count": null,
   "id": "d6c34596",
   "metadata": {},
   "outputs": [],
   "source": []
  },
  {
   "cell_type": "code",
   "execution_count": null,
   "id": "881bc99e",
   "metadata": {},
   "outputs": [],
   "source": []
  },
  {
   "cell_type": "code",
   "execution_count": null,
   "id": "18133320",
   "metadata": {},
   "outputs": [],
   "source": []
  },
  {
   "cell_type": "code",
   "execution_count": null,
   "id": "4451f344",
   "metadata": {},
   "outputs": [],
   "source": []
  },
  {
   "cell_type": "code",
   "execution_count": null,
   "id": "fae925c1",
   "metadata": {},
   "outputs": [],
   "source": []
  }
 ],
 "metadata": {
  "kernelspec": {
   "display_name": "Python 3",
   "language": "python",
   "name": "python3"
  },
  "language_info": {
   "codemirror_mode": {
    "name": "ipython",
    "version": 3
   },
   "file_extension": ".py",
   "mimetype": "text/x-python",
   "name": "python",
   "nbconvert_exporter": "python",
   "pygments_lexer": "ipython3",
   "version": "3.10.9"
  },
  "vscode": {
   "interpreter": {
    "hash": "b1f5a4992254c5e85b68c487e64ce8733cdba8a4c57e6ef0098ca9738230a642"
   }
  }
 },
 "nbformat": 4,
 "nbformat_minor": 5
}
