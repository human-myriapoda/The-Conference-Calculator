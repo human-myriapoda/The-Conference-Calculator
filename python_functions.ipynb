{
 "cells": [
  {
   "cell_type": "code",
   "execution_count": 1,
   "metadata": {},
   "outputs": [],
   "source": [
    "import numpy as np"
   ]
  },
  {
   "attachments": {},
   "cell_type": "markdown",
   "metadata": {},
   "source": [
    "# Write a Python function"
   ]
  },
  {
   "cell_type": "code",
   "execution_count": null,
   "metadata": {},
   "outputs": [],
   "source": [
    "def carbonFootprintTransport(distance, mode):\n",
    "\n",
    "    if mode == 'plane':\n",
    "        carbonFootprint = planeFunction(distance)\n",
    "\n",
    "    elif mode == 'bus':\n",
    "        carbonFootprint = busFunction(distance)\n",
    "\n",
    "    return carbonFootprint"
   ]
  },
  {
   "cell_type": "code",
   "execution_count": null,
   "metadata": {},
   "outputs": [],
   "source": []
  }
 ],
 "metadata": {
  "kernelspec": {
   "display_name": "ConferenceCalculator",
   "language": "python",
   "name": "python3"
  },
  "language_info": {
   "codemirror_mode": {
    "name": "ipython",
    "version": 3
   },
   "file_extension": ".py",
   "mimetype": "text/x-python",
   "name": "python",
   "nbconvert_exporter": "python",
   "pygments_lexer": "ipython3",
   "version": "3.10.9"
  },
  "orig_nbformat": 4,
  "vscode": {
   "interpreter": {
    "hash": "426609f4ca109b3603ecc2fb4fccd371fc19cee002954c1f482e0949bf76f2ba"
   }
  }
 },
 "nbformat": 4,
 "nbformat_minor": 2
}
